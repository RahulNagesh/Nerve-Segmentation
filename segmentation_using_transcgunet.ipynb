{
  "nbformat": 4,
  "nbformat_minor": 0,
  "metadata": {
    "kernelspec": {
      "display_name": "Python 3",
      "language": "python",
      "name": "python3"
    },
    "language_info": {
      "codemirror_mode": {
        "name": "ipython",
        "version": 3
      },
      "file_extension": ".py",
      "mimetype": "text/x-python",
      "name": "python",
      "nbconvert_exporter": "python",
      "pygments_lexer": "ipython3",
      "version": "3.7.9"
    },
    "papermill": {
      "duration": 21419.175156,
      "end_time": "2020-10-10T11:49:01.658393",
      "environment_variables": {},
      "exception": null,
      "input_path": "__notebook__.ipynb",
      "output_path": "__notebook__.ipynb",
      "parameters": {},
      "start_time": "2020-10-10T05:52:02.483237",
      "version": "2.1.0"
    },
    "colab": {
      "name": "my-first-semantic-segmentation-using-transcgunet.ipynb",
      "provenance": [],
      "collapsed_sections": [],
      "toc_visible": true
    },
    "accelerator": "GPU"
  },
  "cells": [
    {
      "cell_type": "code",
      "metadata": {
        "execution": {
          "iopub.execute_input": "2020-10-10T05:52:06.646392Z",
          "iopub.status.busy": "2020-10-10T05:52:06.645652Z",
          "iopub.status.idle": "2020-10-10T05:52:13.420715Z",
          "shell.execute_reply": "2020-10-10T05:52:13.421280Z"
        },
        "papermill": {
          "duration": 6.802195,
          "end_time": "2020-10-10T05:52:13.421486",
          "exception": false,
          "start_time": "2020-10-10T05:52:06.619291",
          "status": "completed"
        },
        "tags": [],
        "id": "EaeeQlr1FnMU",
        "colab": {
          "base_uri": "https://localhost:8080/"
        },
        "outputId": "8b42cfca-78df-4fca-9812-527cde2749b4"
      },
      "source": [
        "from tensorflow.python.client import device_lib\n",
        "print(device_lib.list_local_devices())"
      ],
      "execution_count": null,
      "outputs": [
        {
          "output_type": "stream",
          "text": [
            "[name: \"/device:CPU:0\"\n",
            "device_type: \"CPU\"\n",
            "memory_limit: 268435456\n",
            "locality {\n",
            "}\n",
            "incarnation: 11979344678235941735\n",
            ", name: \"/device:GPU:0\"\n",
            "device_type: \"GPU\"\n",
            "memory_limit: 14674281152\n",
            "locality {\n",
            "  bus_id: 1\n",
            "  links {\n",
            "  }\n",
            "}\n",
            "incarnation: 6807266214533919712\n",
            "physical_device_desc: \"device: 0, name: Tesla T4, pci bus id: 0000:00:04.0, compute capability: 7.5\"\n",
            "]\n",
            "[name: \"/device:CPU:0\"\n",
            "device_type: \"CPU\"\n",
            "memory_limit: 268435456\n",
            "locality {\n",
            "}\n",
            "incarnation: 1528209143064902617\n",
            ", name: \"/device:GPU:0\"\n",
            "device_type: \"GPU\"\n",
            "memory_limit: 14674281152\n",
            "locality {\n",
            "  bus_id: 1\n",
            "  links {\n",
            "  }\n",
            "}\n",
            "incarnation: 10048402226672558481\n",
            "physical_device_desc: \"device: 0, name: Tesla T4, pci bus id: 0000:00:04.0, compute capability: 7.5\"\n",
            "]\n"
          ],
          "name": "stdout"
        }
      ]
    },
    {
      "cell_type": "code",
      "metadata": {
        "id": "khWPfdItFnMW",
        "colab": {
          "base_uri": "https://localhost:8080/"
        },
        "outputId": "a7f74734-e56c-4a83-ab83-a32edb5ee3d2"
      },
      "source": [
        "import torch\n",
        "torch.cuda.is_available()"
      ],
      "execution_count": null,
      "outputs": [
        {
          "output_type": "execute_result",
          "data": {
            "text/plain": [
              "True"
            ]
          },
          "metadata": {
            "tags": []
          },
          "execution_count": 3
        }
      ]
    },
    {
      "cell_type": "code",
      "metadata": {
        "id": "jXhMQ7k7w2Aa"
      },
      "source": [
        "import os"
      ],
      "execution_count": null,
      "outputs": []
    },
    {
      "cell_type": "code",
      "metadata": {
        "id": "zsYd4bCuFnMX"
      },
      "source": [
        "os.environ['TF_FORCE_GPU_ALLOW_GROWTH'] = 'true'"
      ],
      "execution_count": null,
      "outputs": []
    },
    {
      "cell_type": "code",
      "metadata": {
        "_cell_guid": "b1076dfc-b9ad-4769-8c92-a6c4dae69d19",
        "_uuid": "8f2839f25d086af736a60e9eeb907d3b93b6e0e5",
        "execution": {
          "iopub.execute_input": "2020-10-10T05:52:13.473038Z",
          "iopub.status.busy": "2020-10-10T05:52:13.472240Z",
          "iopub.status.idle": "2020-10-10T05:52:14.637682Z",
          "shell.execute_reply": "2020-10-10T05:52:14.637073Z"
        },
        "id": "V000z_TVFFnk",
        "papermill": {
          "duration": 1.194215,
          "end_time": "2020-10-10T05:52:14.637830",
          "exception": false,
          "start_time": "2020-10-10T05:52:13.443615",
          "status": "completed"
        },
        "tags": []
      },
      "source": [
        "import re\n",
        "import numpy as np\n",
        "import pandas as pd\n",
        "import matplotlib.pyplot as plt\n",
        "\n",
        "import cv2\n",
        "from tqdm import tqdm\n",
        "from glob import glob\n",
        "from PIL import Image\n",
        "from skimage.transform import resize\n",
        "from sklearn.model_selection import train_test_split, KFold\n",
        "\n",
        "import tensorflow as tf\n",
        "import tensorflow.keras\n",
        "from tensorflow.keras import backend as K\n",
        "from tensorflow.keras.preprocessing.image import ImageDataGenerator\n",
        "from tensorflow.keras.callbacks import EarlyStopping, ModelCheckpoint"
      ],
      "execution_count": null,
      "outputs": []
    },
    {
      "cell_type": "markdown",
      "metadata": {
        "id": "H36EHCoUFFoL",
        "papermill": {
          "duration": 0.02098,
          "end_time": "2020-10-10T05:52:14.682861",
          "exception": false,
          "start_time": "2020-10-10T05:52:14.661881",
          "status": "completed"
        },
        "tags": []
      },
      "source": [
        "## Building the training dataset.\n",
        "Let's look at the train image list"
      ]
    },
    {
      "cell_type": "code",
      "metadata": {
        "colab": {
          "base_uri": "https://localhost:8080/"
        },
        "id": "PHLEO_Yww9Me",
        "outputId": "9f5765b0-152c-4908-c6b7-7b4e7d621995"
      },
      "source": [
        "from google.colab import drive\n",
        "drive.mount('/content/drive')"
      ],
      "execution_count": null,
      "outputs": [
        {
          "output_type": "stream",
          "text": [
            "Mounted at /content/drive\n"
          ],
          "name": "stdout"
        }
      ]
    },
    {
      "cell_type": "code",
      "metadata": {
        "_kg_hide-output": false,
        "execution": {
          "iopub.execute_input": "2020-10-10T05:52:14.730709Z",
          "iopub.status.busy": "2020-10-10T05:52:14.729869Z",
          "iopub.status.idle": "2020-10-10T05:52:14.975372Z",
          "shell.execute_reply": "2020-10-10T05:52:14.975902Z"
        },
        "id": "5IQvMMbEFFoO",
        "papermill": {
          "duration": 0.272055,
          "end_time": "2020-10-10T05:52:14.976035",
          "exception": false,
          "start_time": "2020-10-10T05:52:14.703980",
          "status": "completed"
        },
        "tags": [],
        "colab": {
          "base_uri": "https://localhost:8080/"
        },
        "outputId": "6c3b7e14-71d3-49f8-bca2-10bec027101b"
      },
      "source": [
        "path = \"/content/drive/MyDrive/dataset/train/\"\n",
        "file_list = os.listdir(path)\n",
        "file_list[:20]"
      ],
      "execution_count": null,
      "outputs": [
        {
          "output_type": "execute_result",
          "data": {
            "text/plain": [
              "['6_113_mask.tif',\n",
              " '6_2.tif',\n",
              " '5_91_mask.tif',\n",
              " '6_33.tif',\n",
              " '6_14.tif',\n",
              " '5_83_mask.tif',\n",
              " '6_108.tif',\n",
              " '5_82.tif',\n",
              " '6_35.tif',\n",
              " '6_118_mask.tif',\n",
              " '6_32_mask.tif',\n",
              " '6_24.tif',\n",
              " '6_115.tif',\n",
              " '6_23_mask.tif',\n",
              " '5_86_mask.tif',\n",
              " '6_110.tif',\n",
              " '5_77.tif',\n",
              " '6_28_mask.tif',\n",
              " '5_9.tif',\n",
              " '6_23.tif']"
            ]
          },
          "metadata": {
            "tags": []
          },
          "execution_count": 9
        }
      ]
    },
    {
      "cell_type": "markdown",
      "metadata": {
        "id": "w0rkSYxsFFoc",
        "papermill": {
          "duration": 0.033307,
          "end_time": "2020-10-10T05:52:15.033882",
          "exception": false,
          "start_time": "2020-10-10T05:52:15.000575",
          "status": "completed"
        },
        "tags": []
      },
      "source": [
        "**Sort the file list in ascending order and seperate it into images and masks**<br/>\n",
        "Each file has the form of either \"subject_imageNum.tif\" or \"subject_imageNum_mask.tif\", so we can extract `subject` and `imageNum` from each file name by using regular expression. `\"[0-9]+\"` means to find the first consecutive number.<br/>"
      ]
    },
    {
      "cell_type": "code",
      "metadata": {
        "execution": {
          "iopub.execute_input": "2020-10-10T05:52:15.087590Z",
          "iopub.status.busy": "2020-10-10T05:52:15.086672Z",
          "iopub.status.idle": "2020-10-10T05:52:15.136335Z",
          "shell.execute_reply": "2020-10-10T05:52:15.137161Z"
        },
        "id": "UiEiHaJHFFor",
        "papermill": {
          "duration": 0.077971,
          "end_time": "2020-10-10T05:52:15.137374",
          "exception": false,
          "start_time": "2020-10-10T05:52:15.059403",
          "status": "completed"
        },
        "tags": [],
        "colab": {
          "base_uri": "https://localhost:8080/"
        },
        "outputId": "1bfd8501-c4d7-4f24-caad-93eb70f83a6e"
      },
      "source": [
        "train_image = []\n",
        "train_mask = glob(path + '*_mask*')\n",
        "\n",
        "for i in train_mask:\n",
        "    train_image.append(i.replace('_mask', ''))\n",
        "        \n",
        "print(train_image[:10],\"\\n\" ,train_mask[:10])"
      ],
      "execution_count": null,
      "outputs": [
        {
          "output_type": "stream",
          "text": [
            "['/content/drive/MyDrive/dataset/train/6_113.tif', '/content/drive/MyDrive/dataset/train/5_91.tif', '/content/drive/MyDrive/dataset/train/5_83.tif', '/content/drive/MyDrive/dataset/train/6_118.tif', '/content/drive/MyDrive/dataset/train/6_32.tif', '/content/drive/MyDrive/dataset/train/6_23.tif', '/content/drive/MyDrive/dataset/train/5_86.tif', '/content/drive/MyDrive/dataset/train/6_28.tif', '/content/drive/MyDrive/dataset/train/5_84.tif', '/content/drive/MyDrive/dataset/train/6_13.tif'] \n",
            " ['/content/drive/MyDrive/dataset/train/6_113_mask.tif', '/content/drive/MyDrive/dataset/train/5_91_mask.tif', '/content/drive/MyDrive/dataset/train/5_83_mask.tif', '/content/drive/MyDrive/dataset/train/6_118_mask.tif', '/content/drive/MyDrive/dataset/train/6_32_mask.tif', '/content/drive/MyDrive/dataset/train/6_23_mask.tif', '/content/drive/MyDrive/dataset/train/5_86_mask.tif', '/content/drive/MyDrive/dataset/train/6_28_mask.tif', '/content/drive/MyDrive/dataset/train/5_84_mask.tif', '/content/drive/MyDrive/dataset/train/6_13_mask.tif']\n"
          ],
          "name": "stdout"
        }
      ]
    },
    {
      "cell_type": "code",
      "metadata": {
        "execution": {
          "iopub.execute_input": "2020-10-10T05:52:15.194139Z",
          "iopub.status.busy": "2020-10-10T05:52:15.193484Z",
          "iopub.status.idle": "2020-10-10T05:52:15.954388Z",
          "shell.execute_reply": "2020-10-10T05:52:15.954935Z"
        },
        "id": "hjv-upiCFFo3",
        "papermill": {
          "duration": 0.793622,
          "end_time": "2020-10-10T05:52:15.955076",
          "exception": false,
          "start_time": "2020-10-10T05:52:15.161454",
          "status": "completed"
        },
        "tags": [],
        "colab": {
          "base_uri": "https://localhost:8080/",
          "height": 259
        },
        "outputId": "98f77602-fd1f-4cbd-ad9e-b951fc7d23f5"
      },
      "source": [
        "# Display the first image and mask of the first subject.\n",
        "image1 = np.array(Image.open(path+\"1_1.tif\"))\n",
        "image1_mask = np.array(Image.open(path+\"1_1_mask.tif\"))\n",
        "image1_mask = np.ma.masked_where(image1_mask == 0, image1_mask)\n",
        "\n",
        "fig, ax = plt.subplots(1,3,figsize = (16,12))\n",
        "ax[0].imshow(image1, cmap = 'gray')\n",
        "\n",
        "ax[1].imshow(image1_mask, cmap = 'gray')\n",
        "\n",
        "ax[2].imshow(image1, cmap = 'gray', interpolation = 'none')\n",
        "ax[2].imshow(image1_mask, cmap = 'jet', interpolation = 'none', alpha = 0.7)"
      ],
      "execution_count": null,
      "outputs": [
        {
          "output_type": "execute_result",
          "data": {
            "text/plain": [
              "<matplotlib.image.AxesImage at 0x7fa4c79d9e90>"
            ]
          },
          "metadata": {
            "tags": []
          },
          "execution_count": 11
        },
        {
          "output_type": "display_data",
          "data": {
            "image/png": "[encoded data removed]",
            "text/plain": [
              "<Figure size 1152x864 with 3 Axes>"
            ]
          },
          "metadata": {
            "tags": [],
            "needs_background": "light"
          }
        }
      ]
    },
    {
      "cell_type": "markdown",
      "metadata": {
        "id": "fxk0ICSrFFpD",
        "papermill": {
          "duration": 0.02688,
          "end_time": "2020-10-10T05:52:16.008592",
          "exception": false,
          "start_time": "2020-10-10T05:52:15.981712",
          "status": "completed"
        },
        "tags": []
      },
      "source": [
        "Now, I try to load all image files and store them variables X and y. Afther doing this, I recognize that it takes very much memory.<br/>\n",
        "Please let me know if there are several efficient ways to store image file"
      ]
    },
    {
      "cell_type": "code",
      "metadata": {
        "execution": {
          "iopub.execute_input": "2020-10-10T05:52:16.121068Z",
          "iopub.status.busy": "2020-10-10T05:52:16.119187Z",
          "iopub.status.idle": "2020-10-10T05:52:16.121908Z",
          "shell.execute_reply": "2020-10-10T05:52:16.122425Z"
        },
        "id": "YPvr7aOOFFpQ",
        "papermill": {
          "duration": 0.034659,
          "end_time": "2020-10-10T05:52:16.122547",
          "exception": false,
          "start_time": "2020-10-10T05:52:16.087888",
          "status": "completed"
        },
        "tags": []
      },
      "source": [
        "width = 128\n",
        "height = 128"
      ],
      "execution_count": null,
      "outputs": []
    },
    {
      "cell_type": "code",
      "metadata": {
        "execution": {
          "iopub.execute_input": "2020-10-10T05:52:16.290379Z",
          "iopub.status.busy": "2020-10-10T05:52:16.289504Z",
          "iopub.status.idle": "2020-10-10T05:52:16.292964Z",
          "shell.execute_reply": "2020-10-10T05:52:16.292358Z"
        },
        "id": "Gpbv3Zc4FFqi",
        "papermill": {
          "duration": 0.037413,
          "end_time": "2020-10-10T05:52:16.293082",
          "exception": false,
          "start_time": "2020-10-10T05:52:16.255669",
          "status": "completed"
        },
        "tags": []
      },
      "source": [
        "from tensorflow.keras.models import Model, load_model\n",
        "from tensorflow.keras import Input\n",
        "from tensorflow.keras.layers import Input, Activation, BatchNormalization, Dropout, Lambda, Conv2D, Conv2DTranspose, MaxPooling2D, concatenate,add\n",
        "from tensorflow.keras.optimizers import Adam\n",
        "from tensorflow.keras.callbacks import EarlyStopping, ModelCheckpoint"
      ],
      "execution_count": null,
      "outputs": []
    },
    {
      "cell_type": "code",
      "metadata": {
        "execution": {
          "iopub.execute_input": "2020-10-10T05:52:16.368793Z",
          "iopub.status.busy": "2020-10-10T05:52:16.367844Z",
          "iopub.status.idle": "2020-10-10T05:52:16.370796Z",
          "shell.execute_reply": "2020-10-10T05:52:16.370237Z"
        },
        "id": "xyAgRz_tFFqp",
        "papermill": {
          "duration": 0.050498,
          "end_time": "2020-10-10T05:52:16.370898",
          "exception": false,
          "start_time": "2020-10-10T05:52:16.320400",
          "status": "completed"
        },
        "tags": []
      },
      "source": [
        "from sklearn import metrics\n",
        "\n",
        "def dice_coef(y_true, y_pred):\n",
        "    smooth = 0.0\n",
        "    y_true_f = K.flatten(y_true)\n",
        "    y_pred_f = K.flatten(y_pred)\n",
        "    intersection = K.sum(y_true_f * y_pred_f)\n",
        "    return (2. * intersection + smooth) / (K.sum(y_true_f) + K.sum(y_pred_f) + smooth)\n",
        "\n",
        "def iou(y_true, y_pred):\n",
        "\n",
        "    y_true_f = K.flatten(y_true)\n",
        "    y_pred_f = K.flatten(y_pred)\n",
        "    intersection = K.sum ( y_true_f * y_pred_f)\n",
        "    union = K.sum ( y_true_f + y_pred_f - y_true_f * y_pred_f)\n",
        "\n",
        "    return intersection/union\n",
        "\n",
        "\n",
        "def dice_coef_loss(y_true, y_pred):\n",
        "    return -dice_coef(y_true, y_pred)\n",
        "\n",
        "\n",
        "def sensitivity(y_true, y_pred):\n",
        "    s = K.sum(y_true, axis=(1,2,3))\n",
        "    y_true_c = s / (s + K.epsilon())\n",
        "    s_ = K.sum(y_pred, axis=(1,2,3))\n",
        "    y_pred_c = s_ / (s_ + K.epsilon())\n",
        "   \n",
        "    true_positives = K.sum(K.round(K.clip(y_true_c * y_pred_c, 0, 1)))\n",
        "    possible_positives = K.sum(K.round(K.clip(y_true_c, 0, 1)))\n",
        "    return true_positives / (possible_positives + K.epsilon())\n",
        "\n",
        "def specificity(y_true, y_pred):\n",
        "    s = K.sum(y_true, axis=(1,2,3))\n",
        "    y_true_c = s / (s + K.epsilon())\n",
        "    s_ = K.sum(y_pred, axis=(1,2,3))\n",
        "    y_pred_c = s_ / (s_ + K.epsilon())\n",
        "    \n",
        "    true_negatives = K.sum(K.round(K.clip((1-y_true_c) * (1-y_pred_c), 0, 1)))\n",
        "    possible_negatives = K.sum(K.round(K.clip(1-y_true_c, 0, 1)))\n",
        "    return true_negatives / (possible_negatives + K.epsilon())\n"
      ],
      "execution_count": null,
      "outputs": []
    },
    {
      "cell_type": "code",
      "metadata": {
        "execution": {
          "iopub.execute_input": "2020-10-10T05:52:16.454698Z",
          "iopub.status.busy": "2020-10-10T05:52:16.444090Z",
          "iopub.status.idle": "2020-10-10T05:52:16.463249Z",
          "shell.execute_reply": "2020-10-10T05:52:16.463823Z"
        },
        "id": "M_d0LZZj3zOz",
        "papermill": {
          "duration": 0.065213,
          "end_time": "2020-10-10T05:52:16.463941",
          "exception": false,
          "start_time": "2020-10-10T05:52:16.398728",
          "status": "completed"
        },
        "tags": []
      },
      "source": [
        "from tensorflow.keras.applications.vgg16 import VGG16\n",
        "from tensorflow.keras.layers import *\n",
        "\n",
        "def res_block(inputs,filter_size):\n",
        "    \"\"\"\n",
        "    res_block -- Residual block for building res path\n",
        "    \n",
        "    Arguments:\n",
        "    inputs {<class 'tensorflow.python.framework.ops.Tensor'>} -- input for residual block\n",
        "    filter_size {int} -- convolutional filter size \n",
        "    \n",
        "    Returns:\n",
        "    add {<class 'tensorflow.python.framework.ops.Tensor'>} -- addition of two convolutional filter output  \n",
        "    \"\"\"\n",
        "    # First Conv2D layer\n",
        "    cb1 = Conv2D(filter_size,(3,3),padding = 'same',activation=\"relu\")(inputs)\n",
        "    # Second Conv2D layer parallel to the first one\n",
        "    cb2 = Conv2D(filter_size,(1,1),padding = 'same',activation=\"relu\")(inputs)\n",
        "    # Addition of cb1 and cb2\n",
        "    add = Add()([cb1,cb2])\n",
        "    \n",
        "    return add\n",
        "\n",
        "def res_path(inputs,filter_size,path_number):\n",
        "    \"\"\"\n",
        "    res_path -- residual path / modified skip connection\n",
        "    \n",
        "    Arguments:\n",
        "    inputs {<class 'tensorflow.python.framework.ops.Tensor'>} -- input for res path\n",
        "    filter_size {int} -- convolutional filter size \n",
        "    path_number {int} -- path identifier \n",
        "    \n",
        "    Returns:\n",
        "    skip_connection {<class 'tensorflow.python.framework.ops.Tensor'>} -- final res path\n",
        "    \"\"\"\n",
        "    # Minimum one residual block for every res path\n",
        "    skip_connection = res_block(inputs, filter_size)\n",
        "\n",
        "    # Two serial residual blocks for res path 2\n",
        "    if path_number == 2:\n",
        "        skip_connection = res_block(skip_connection,filter_size)\n",
        "    \n",
        "    # Three serial residual blocks for res path 1\n",
        "    elif path_number == 1:\n",
        "        skip_connection = res_block(skip_connection,filter_size)\n",
        "        skip_connection = res_block(skip_connection,filter_size)\n",
        "    \n",
        "    return skip_connection\n",
        "\n",
        "def decoder_block(inputs, res, out_channels, depth):\n",
        "    \n",
        "    \"\"\"\n",
        "    decoder_block -- decoder block formation\n",
        "    \n",
        "    Arguments:\n",
        "    inputs {<class 'tensorflow.python.framework.ops.Tensor'>} -- input for decoder block\n",
        "    mid_channels {int} -- no. of mid channels \n",
        "    out_channels {int} -- no. of out channels\n",
        "    \n",
        "    Returns:\n",
        "    db {<class 'tensorflow.python.framework.ops.Tensor'>} -- returning the decoder block\n",
        "    \"\"\"\n",
        "    conv_kwargs = dict(\n",
        "        activation='relu',\n",
        "        padding='same',\n",
        "        kernel_initializer='he_normal',\n",
        "        data_format='channels_last'  \n",
        "    )\n",
        "    \n",
        "    # UpConvolutional layer\n",
        "    db = UpSampling2D((2, 2), interpolation='bilinear')(inputs)\n",
        "    db = concatenate([db, res], axis=3)\n",
        "    # First conv2D layer \n",
        "    db = Conv2D(out_channels, 3, **conv_kwargs)(db)\n",
        "    # Second conv2D layer\n",
        "    db = Conv2D(out_channels, 3, **conv_kwargs)(db)\n",
        "\n",
        "    if depth > 2:\n",
        "        # Third conv2D layer\n",
        "        db = Conv2D(out_channels, 3, **conv_kwargs)(db)\n",
        "\n",
        "    return db\n",
        "\n",
        "def TransCGUNet(input_size=(512, 512, 1)):\n",
        "    \"\"\"\n",
        "    TransResUNet -- main architecture of TransResUNet\n",
        "    \n",
        "    Arguments:\n",
        "    input_size {tuple} -- size of input image\n",
        "    \n",
        "    Returns:\n",
        "    model {<class 'tensorflow.python.keras.engine.training.Model'>} -- final model\n",
        "    \"\"\"\n",
        "    \n",
        "    # Input \n",
        "    inputs = Input(input_size)\n",
        "\n",
        "    # VGG16 with imagenet weights\n",
        "    encoder = VGG16(include_top=False, weights='imagenet', input_shape=input_size)\n",
        "       \n",
        "    # First encoder block\n",
        "    enc1 = encoder.get_layer(name='block1_conv1')(inputs)\n",
        "    enc1 = encoder.get_layer(name='block1_conv2')(enc1)\n",
        "    enc2 = MaxPooling2D(pool_size=(2, 2))(enc1)\n",
        "    \n",
        "    # Second encoder block\n",
        "    enc2 = encoder.get_layer(name='block2_conv1')(enc2)\n",
        "    enc2 = encoder.get_layer(name='block2_conv2')(enc2)\n",
        "    enc3 = MaxPooling2D(pool_size=(2, 2))(enc2)\n",
        "    \n",
        "    # Third encoder block\n",
        "    enc3 = encoder.get_layer(name='block3_conv1')(enc3)\n",
        "    enc3 = encoder.get_layer(name='block3_conv2')(enc3)\n",
        "    enc3 = encoder.get_layer(name='block3_conv3')(enc3)\n",
        "    center = MaxPooling2D(pool_size=(2, 2))(enc3)\n",
        "\n",
        "    # Center block\n",
        "    center = Conv2D(512, (3, 3), activation='relu', padding='same')(center)\n",
        "    center = Conv2D(512, (3, 3), activation='relu', padding='same')(center)\n",
        "    \n",
        "    # classification branch\n",
        "    cls = Conv2D(32, (3,3), activation='relu', padding='same')(center)\n",
        "    # cls = Conv2D(128, (3,3), activation='relu', padding='same')(center)\n",
        "    cls = Conv2D(1, (1,1))(cls)\n",
        "    cls = GlobalAveragePooling2D()(cls)\n",
        "    cls = Activation('sigmoid', name='class')(cls)\n",
        "    clsr = Reshape((1, 1, 1), name='reshape')(cls)\n",
        "\n",
        "    # Decoder block corresponding to third encoder\n",
        "    res_path3 = res_path(enc3,128,3)\n",
        "    dec3 = decoder_block(center, res_path3, 256, 3)\n",
        "    \n",
        "    # Decoder block corresponding to second encoder\n",
        "    res_path2 = res_path(enc2,64,2)\n",
        "    dec2 = decoder_block(dec3, res_path2, 128, 2)\n",
        "    \n",
        "    # Final Block concatenation with first encoded feature \n",
        "    res_path1 = res_path(enc1,32,1)\n",
        "    dec1 = decoder_block(dec2, res_path1, 64, 1)\n",
        "\n",
        "    # Output\n",
        "    out = Conv2D(1, 1)(dec1)\n",
        "    out = Activation('sigmoid')(out)\n",
        "    out = multiply(inputs=[out,clsr], name='seg')\n",
        "    \n",
        "    # Final model\n",
        "    model = Model(inputs=[inputs], outputs=[out, cls])\n",
        "    \n",
        "    return model"
      ],
      "execution_count": null,
      "outputs": []
    },
    {
      "cell_type": "code",
      "metadata": {
        "execution": {
          "iopub.execute_input": "2020-10-10T05:52:16.540802Z",
          "iopub.status.busy": "2020-10-10T05:52:16.539801Z",
          "iopub.status.idle": "2020-10-10T05:52:16.559905Z",
          "shell.execute_reply": "2020-10-10T05:52:16.560738Z"
        },
        "id": "IEX0f8GhFFq3",
        "papermill": {
          "duration": 0.068902,
          "end_time": "2020-10-10T05:52:16.560921",
          "exception": false,
          "start_time": "2020-10-10T05:52:16.492019",
          "status": "completed"
        },
        "tags": []
      },
      "source": [
        "from tensorflow.keras.applications.vgg16 import preprocess_input\n",
        "\n",
        "def train_generator(data_frame, batch_size, train_path, aug_dict,\n",
        "        image_color_mode=\"rgb\",\n",
        "        mask_color_mode=\"grayscale\",\n",
        "        image_save_prefix=\"image\",\n",
        "        mask_save_prefix=\"mask\",\n",
        "        save_to_dir=None,\n",
        "        target_size=(256,256),\n",
        "        seed=1):\n",
        "    '''\n",
        "    can generate image and mask at the same time use the same seed for\n",
        "    image_datagen and mask_datagen to ensure the transformation for image\n",
        "    and mask is the same if you want to visualize the results of generator,\n",
        "    set save_to_dir = \"your path\"\n",
        "    '''\n",
        "    image_datagen = ImageDataGenerator(**aug_dict)\n",
        "    mask_datagen = ImageDataGenerator(**aug_dict)\n",
        "    \n",
        "    image_generator = image_datagen.flow_from_dataframe(\n",
        "        data_frame,\n",
        "        directory = train_path,\n",
        "        x_col = \"filename\",\n",
        "        class_mode = None,\n",
        "        color_mode = image_color_mode,\n",
        "        target_size = target_size,\n",
        "        batch_size = batch_size,\n",
        "        save_to_dir = save_to_dir,\n",
        "        save_prefix  = image_save_prefix,\n",
        "        seed = seed)\n",
        "\n",
        "    mask_generator = mask_datagen.flow_from_dataframe(\n",
        "        data_frame,\n",
        "        directory = train_path,\n",
        "        x_col = \"mask\",\n",
        "        class_mode = None,\n",
        "        color_mode = mask_color_mode,\n",
        "        target_size = target_size,\n",
        "        batch_size = batch_size,\n",
        "        save_to_dir = save_to_dir,\n",
        "        save_prefix  = mask_save_prefix,\n",
        "        seed = seed)\n",
        "\n",
        "    train_gen = zip(image_generator, mask_generator)\n",
        "    \n",
        "    for (img, mask) in train_gen:\n",
        "        img, mask, label = adjust_data(img, mask)\n",
        "        yield (img,[mask,label])\n",
        "\n",
        "def adjust_data(img,mask):\n",
        "    img = preprocess_input(img)\n",
        "    mask = mask / 255\n",
        "    mask[mask > 0.5] = 1\n",
        "    mask[mask <= 0.5] = 0\n",
        "    masks_sum = np.sum(mask, axis=(1,2,3)).reshape((-1, 1))\n",
        "    class_lab = (masks_sum != 0) + 0.\n",
        "    \n",
        "    return (img, mask, class_lab)"
      ],
      "execution_count": null,
      "outputs": []
    },
    {
      "cell_type": "code",
      "metadata": {
        "execution": {
          "iopub.execute_input": "2020-10-10T05:52:16.662746Z",
          "iopub.status.busy": "2020-10-10T05:52:16.661791Z",
          "iopub.status.idle": "2020-10-10T05:52:35.977984Z",
          "shell.execute_reply": "2020-10-10T05:52:35.977220Z"
        },
        "id": "zO4WD60TQ_HL",
        "papermill": {
          "duration": 19.370998,
          "end_time": "2020-10-10T05:52:35.978096",
          "exception": false,
          "start_time": "2020-10-10T05:52:16.607098",
          "status": "completed"
        },
        "tags": []
      },
      "source": [
        "pos_mask = []\n",
        "pos_img = []\n",
        "neg_mask = []\n",
        "neg_img = []\n",
        "\n",
        "for mask_path, img_path in zip(train_mask, train_image):\n",
        "    mask = cv2.imread(mask_path, cv2.IMREAD_GRAYSCALE)\n",
        "    if np.sum(mask) == 0:\n",
        "        neg_mask.append(mask_path)\n",
        "        neg_img.append(img_path)\n",
        "    else:\n",
        "        pos_mask.append(mask_path)\n",
        "        pos_img.append(img_path)"
      ],
      "execution_count": null,
      "outputs": []
    },
    {
      "cell_type": "code",
      "metadata": {
        "execution": {
          "iopub.execute_input": "2020-10-10T05:52:36.041277Z",
          "iopub.status.busy": "2020-10-10T05:52:36.040325Z",
          "iopub.status.idle": "2020-10-10T05:52:37.525277Z",
          "shell.execute_reply": "2020-10-10T05:52:37.524486Z"
        },
        "id": "YGNJWh6ZQ_HW",
        "papermill": {
          "duration": 1.518979,
          "end_time": "2020-10-10T05:52:37.525436",
          "exception": false,
          "start_time": "2020-10-10T05:52:36.006457",
          "status": "completed"
        },
        "tags": []
      },
      "source": [
        "!mkdir generated\n",
        "!mkdir generated/img"
      ],
      "execution_count": null,
      "outputs": []
    },
    {
      "cell_type": "code",
      "metadata": {
        "execution": {
          "iopub.execute_input": "2020-10-10T05:52:37.592199Z",
          "iopub.status.busy": "2020-10-10T05:52:37.591463Z",
          "iopub.status.idle": "2020-10-10T05:52:37.596217Z",
          "shell.execute_reply": "2020-10-10T05:52:37.595656Z"
        },
        "id": "_vN5uEKUjzeK",
        "papermill": {
          "duration": 0.040723,
          "end_time": "2020-10-10T05:52:37.596329",
          "exception": false,
          "start_time": "2020-10-10T05:52:37.555606",
          "status": "completed"
        },
        "tags": []
      },
      "source": [
        "def flip_up_down(img):\n",
        "    newImg = img.copy()\n",
        "    return cv2.flip(newImg, 0)\n",
        "\n",
        "def flip_right_left(img):\n",
        "    newImg = img.copy()\n",
        "    return cv2.flip(newImg, 1)"
      ],
      "execution_count": null,
      "outputs": []
    },
    {
      "cell_type": "code",
      "metadata": {
        "execution": {
          "iopub.execute_input": "2020-10-10T05:52:37.669888Z",
          "iopub.status.busy": "2020-10-10T05:52:37.669028Z",
          "iopub.status.idle": "2020-10-10T05:53:44.696362Z",
          "shell.execute_reply": "2020-10-10T05:53:44.695703Z"
        },
        "id": "bL-tRF1DhR-J",
        "papermill": {
          "duration": 67.070562,
          "end_time": "2020-10-10T05:53:44.696496",
          "exception": false,
          "start_time": "2020-10-10T05:52:37.625934",
          "status": "completed"
        },
        "tags": [],
        "colab": {
          "base_uri": "https://localhost:8080/",
          "height": 246
        },
        "outputId": "586a4caf-5702-41df-8145-3ab033b07ade"
      },
      "source": [
        "gen_img = []\n",
        "gen_mask = []\n",
        "\n",
        "for (img_path, mask_path) in tqdm(zip(pos_img, pos_mask)):\n",
        "    image_name = img_path.split('/')[-1].split('.')[0]\n",
        "\n",
        "    uf_img_path = 'generated/img/'+image_name+'_uf.jpg'\n",
        "    uf_mask_path = 'generated/img/'+image_name+'_uf_mask.jpg'\n",
        "    rf_img_path = 'generated/img/'+image_name+'_rf.jpg'\n",
        "    rf_mask_path = 'generated/img/'+image_name+'_rf_mask.jpg'\n",
        "\n",
        "    img = cv2.imread(img_path)\n",
        "    mask = cv2.imread(mask_path)\n",
        "\n",
        "    uf_img = flip_up_down(img)\n",
        "    uf_mask = flip_up_down(mask)\n",
        "    rf_img = flip_right_left(img)\n",
        "    rf_mask = flip_right_left(mask)\n",
        "\n",
        "    cv2.imwrite(uf_img_path, uf_img)\n",
        "    cv2.imwrite(uf_mask_path, uf_mask)\n",
        "    cv2.imwrite(rf_img_path, rf_img)\n",
        "    cv2.imwrite(rf_mask_path, rf_mask)\n",
        "    \n",
        "    gen_img.append(uf_img_path)\n",
        "    gen_mask.append(uf_mask_path)\n",
        "    gen_img.append(rf_img_path)\n",
        "    gen_mask.append(rf_mask_path)"
      ],
      "execution_count": null,
      "outputs": [
        {
          "output_type": "stream",
          "text": [
            "948it [09:15,  1.74it/s]"
          ],
          "name": "stderr"
        },
        {
          "output_type": "error",
          "ename": "KeyboardInterrupt",
          "evalue": "ignored",
          "traceback": [
            "\u001b[0;31m---------------------------------------------------------------------------\u001b[0m",
            "\u001b[0;31mKeyboardInterrupt\u001b[0m                         Traceback (most recent call last)",
            "\u001b[0;32m<ipython-input-20-ed5d02e5696f>\u001b[0m in \u001b[0;36m<module>\u001b[0;34m()\u001b[0m\n\u001b[1;32m     10\u001b[0m     \u001b[0mrf_mask_path\u001b[0m \u001b[0;34m=\u001b[0m \u001b[0;34m'generated/img/'\u001b[0m\u001b[0;34m+\u001b[0m\u001b[0mimage_name\u001b[0m\u001b[0;34m+\u001b[0m\u001b[0;34m'_rf_mask.jpg'\u001b[0m\u001b[0;34m\u001b[0m\u001b[0;34m\u001b[0m\u001b[0m\n\u001b[1;32m     11\u001b[0m \u001b[0;34m\u001b[0m\u001b[0m\n\u001b[0;32m---> 12\u001b[0;31m     \u001b[0mimg\u001b[0m \u001b[0;34m=\u001b[0m \u001b[0mcv2\u001b[0m\u001b[0;34m.\u001b[0m\u001b[0mimread\u001b[0m\u001b[0;34m(\u001b[0m\u001b[0mimg_path\u001b[0m\u001b[0;34m)\u001b[0m\u001b[0;34m\u001b[0m\u001b[0;34m\u001b[0m\u001b[0m\n\u001b[0m\u001b[1;32m     13\u001b[0m     \u001b[0mmask\u001b[0m \u001b[0;34m=\u001b[0m \u001b[0mcv2\u001b[0m\u001b[0;34m.\u001b[0m\u001b[0mimread\u001b[0m\u001b[0;34m(\u001b[0m\u001b[0mmask_path\u001b[0m\u001b[0;34m)\u001b[0m\u001b[0;34m\u001b[0m\u001b[0;34m\u001b[0m\u001b[0m\n\u001b[1;32m     14\u001b[0m \u001b[0;34m\u001b[0m\u001b[0m\n",
            "\u001b[0;31mKeyboardInterrupt\u001b[0m: "
          ]
        }
      ]
    },
    {
      "cell_type": "code",
      "metadata": {
        "execution": {
          "iopub.execute_input": "2020-10-10T05:53:45.221294Z",
          "iopub.status.busy": "2020-10-10T05:53:45.219504Z",
          "iopub.status.idle": "2020-10-10T05:53:45.226245Z",
          "shell.execute_reply": "2020-10-10T05:53:45.225671Z"
        },
        "id": "dXlzh9nwFFq_",
        "papermill": {
          "duration": 0.273917,
          "end_time": "2020-10-10T05:53:45.226381",
          "exception": false,
          "start_time": "2020-10-10T05:53:44.952464",
          "status": "completed"
        },
        "tags": []
      },
      "source": [
        "aug_img = gen_img + train_image\n",
        "aug_mask = gen_mask + train_mask\n",
        "\n",
        "df_ = pd.DataFrame(data={\"filename\": aug_img, 'mask' : aug_mask})\n",
        "df = df_.sample(frac=1).reset_index(drop=True)\n",
        "\n",
        "# df = df[0:160]\n",
        "\n",
        "kf = KFold(n_splits = 5, shuffle=False)"
      ],
      "execution_count": null,
      "outputs": []
    },
    {
      "cell_type": "code",
      "metadata": {
        "execution": {
          "iopub.execute_input": "2020-10-10T05:53:45.768681Z",
          "iopub.status.busy": "2020-10-10T05:53:45.767702Z",
          "iopub.status.idle": "2020-10-10T11:45:28.947900Z",
          "shell.execute_reply": "2020-10-10T11:45:28.948874Z"
        },
        "id": "ZlGRbdQ2FFrG",
        "papermill": {
          "duration": 21103.46105,
          "end_time": "2020-10-10T11:45:28.949152",
          "exception": false,
          "start_time": "2020-10-10T05:53:45.488102",
          "status": "completed"
        },
        "tags": []
      },
      "source": [
        "histories = []\n",
        "losses = []\n",
        "accuracies = []\n",
        "dicecoefs = []\n",
        "ious = []\n",
        "\n",
        "train_generator_args = dict(rotation_range=0.2,\n",
        "                            width_shift_range=0.05,\n",
        "                            height_shift_range=0.05,\n",
        "                            shear_range=0.05,\n",
        "                            zoom_range=0.05,\n",
        "                            horizontal_flip=True,\n",
        "                            fill_mode='nearest')\n",
        "\n",
        "EPOCHS = 100\n",
        "BATCH_SIZE = 32\n",
        "\n",
        "for k, (train_index, test_index) in enumerate(kf.split(df)):\n",
        "    train_data_frame = df.iloc[train_index]\n",
        "    test_data_frame = df.iloc[test_index]\n",
        "    \n",
        "    train_gen = train_generator(train_data_frame, BATCH_SIZE,\n",
        "                                None,\n",
        "                                train_generator_args,\n",
        "                                target_size=(height, width))\n",
        "\n",
        "    test_gener = train_generator(test_data_frame, BATCH_SIZE,\n",
        "                                None,\n",
        "                                dict(),\n",
        "                                target_size=(height, width))\n",
        "\n",
        "    model = TransCGUNet(input_size=(height,width, 3))\n",
        "    model.compile(optimizer=Adam(lr=5e-6), loss={'seg':dice_coef_loss, 'class':'binary_crossentropy'}, \\\n",
        "                      loss_weights={'seg':1, 'class':1}, metrics={'seg':[iou, dice_coef, sensitivity, specificity,'binary_accuracy'], 'class':['accuracy']})\n",
        "\n",
        "    model_checkpoint = ModelCheckpoint(str(k+1) + '_unet_ner_seg.hdf5', \n",
        "                                       verbose=1, \n",
        "                                       save_best_only=True)\n",
        "\n",
        "    history = model.fit(train_gen,\n",
        "                          steps_per_epoch=len(train_data_frame) // BATCH_SIZE, \n",
        "                          epochs=EPOCHS, \n",
        "                          callbacks=[model_checkpoint],\n",
        "                          validation_data = test_gener,\n",
        "                          validation_steps=len(test_data_frame) // BATCH_SIZE)\n",
        "    \n",
        "    model = load_model(str(k+1) + '_unet_ner_seg.hdf5', custom_objects={'dice_coef_loss': dice_coef_loss, 'iou': iou, 'dice_coef': dice_coef, 'sensitivity': sensitivity, 'specificity': specificity})\n",
        "    \n",
        "    test_gen = train_generator(test_data_frame, BATCH_SIZE,\n",
        "                                None,\n",
        "                                dict(),\n",
        "                                target_size=(height, width))\n",
        "    results = model.evaluate(test_gen, steps=len(test_data_frame) // BATCH_SIZE)\n",
        "    results = dict(zip(model.metrics_names,results))\n",
        "    \n",
        "    histories.append(history)\n",
        "    accuracies.append(results['seg_binary_accuracy'])\n",
        "    losses.append(results['seg_loss'])\n",
        "    dicecoefs.append(results['seg_dice_coef'])\n",
        "    ious.append(results['seg_iou'])\n",
        "    \n",
        "    break"
      ],
      "execution_count": null,
      "outputs": []
    },
    {
      "cell_type": "code",
      "metadata": {
        "execution": {
          "iopub.execute_input": "2020-10-10T11:45:55.431770Z",
          "iopub.status.busy": "2020-10-10T11:45:55.430797Z",
          "iopub.status.idle": "2020-10-10T11:46:18.141369Z",
          "shell.execute_reply": "2020-10-10T11:46:18.140267Z"
        },
        "papermill": {
          "duration": 35.876068,
          "end_time": "2020-10-10T11:46:18.141494",
          "exception": false,
          "start_time": "2020-10-10T11:45:42.265426",
          "status": "completed"
        },
        "tags": [],
        "id": "pSd_GZGhFnMl"
      },
      "source": [
        "import cv2\n",
        "from sklearn import metrics\n",
        "\n",
        "test_gen = train_generator(test_data_frame, BATCH_SIZE,\n",
        "                                None,\n",
        "                                dict(),\n",
        "                                target_size=(height, width))\n",
        "pred = model.predict(test_gen, steps=len(test_data_frame) // BATCH_SIZE)\n",
        "pred = np.sum(pred[0], axis=(1,2,3))      # onno model e pred[0] er jaygay pred hobe\n",
        "pred[pred>0] = 1\n",
        "\n",
        "true = []\n",
        "for i in test_data_frame['mask']:\n",
        "    img = cv2.imread(i, cv2.IMREAD_GRAYSCALE)\n",
        "    s = np.sum(img)\n",
        "    if s > 0:\n",
        "        true.append(1)\n",
        "    else:\n",
        "        true.append(0)\n",
        "\n",
        "true = np.array(true)\n",
        "\n",
        "cm = metrics.confusion_matrix(true, pred)\n",
        "\n",
        "TP = cm[1][1]\n",
        "TN = cm[0][0]\n",
        "FP = cm[0][1]\n",
        "FN = cm[1][0]\n",
        "\n",
        "# calculate the sensitivity\n",
        "conf_sensitivity = (TP / float(TP + FN))    \n",
        "# calculate the specificity\n",
        "conf_specificity = (TN / float(TN + FP))\n",
        "\n",
        "print('Sensitivity', conf_sensitivity)\n",
        "print('Specificity', conf_specificity)"
      ],
      "execution_count": null,
      "outputs": []
    },
    {
      "cell_type": "code",
      "metadata": {
        "execution": {
          "iopub.execute_input": "2020-10-10T11:46:44.835143Z",
          "iopub.status.busy": "2020-10-10T11:46:44.827190Z",
          "iopub.status.idle": "2020-10-10T11:46:46.764815Z",
          "shell.execute_reply": "2020-10-10T11:46:46.764255Z"
        },
        "id": "JG6XfYBQFFrO",
        "papermill": {
          "duration": 14.840523,
          "end_time": "2020-10-10T11:46:46.764942",
          "exception": false,
          "start_time": "2020-10-10T11:46:31.924419",
          "status": "completed"
        },
        "tags": []
      },
      "source": [
        "import pickle\n",
        "\n",
        "for h, history in enumerate(histories):\n",
        "\n",
        "    keys = history.history.keys()\n",
        "    fig, axs = plt.subplots(1, len(keys)//2, figsize = (25, 5))\n",
        "    fig.suptitle('No. ' + str(h+1) + ' Fold Results', fontsize=30)\n",
        "\n",
        "    for k, key in enumerate(list(keys)[:len(keys)//2]):\n",
        "        training = history.history[key]\n",
        "        validation = history.history['val_' + key]\n",
        "\n",
        "        epoch_count = range(1, len(training) + 1)\n",
        "\n",
        "        axs[k].plot(epoch_count, training, 'r--')\n",
        "        axs[k].plot(epoch_count, validation, 'b-')\n",
        "        axs[k].legend(['Training ' + key, 'Validation ' + key])\n",
        "        \n",
        "    with open(str(h+1) + '_ultrasound_trainHistoryDict', 'wb') as file_pi:\n",
        "        pickle.dump(history.history, file_pi)"
      ],
      "execution_count": null,
      "outputs": []
    },
    {
      "cell_type": "code",
      "metadata": {
        "execution": {
          "iopub.execute_input": "2020-10-10T11:47:12.958272Z",
          "iopub.status.busy": "2020-10-10T11:47:12.955591Z",
          "iopub.status.idle": "2020-10-10T11:47:12.968262Z",
          "shell.execute_reply": "2020-10-10T11:47:12.969441Z"
        },
        "id": "_EhgaH9kFFrU",
        "papermill": {
          "duration": 12.917958,
          "end_time": "2020-10-10T11:47:12.969615",
          "exception": false,
          "start_time": "2020-10-10T11:47:00.051657",
          "status": "completed"
        },
        "tags": []
      },
      "source": [
        "print('accuracies : ', np.array(accuracies))\n",
        "print('losses : ', np.array(losses))\n",
        "print('ious : ', np.array(ious))\n",
        "print('dicecoefs : ', np.array(dicecoefs))\n",
        "\n",
        "print('\\naverage accuracy : ', np.mean(np.array(accuracies)), '+-', np.std(np.array(accuracies)))\n",
        "print('average loss : ', np.mean(np.array(losses)), '+-', np.std(np.array(losses)))\n",
        "print('average iou : ', np.mean(np.array(ious)), '+-', np.std(np.array(ious)))\n",
        "print('average dice_coe : ', np.mean(np.array(dicecoefs)), '+-', np.std(np.array(dicecoefs)))"
      ],
      "execution_count": null,
      "outputs": []
    },
    {
      "cell_type": "code",
      "metadata": {
        "execution": {
          "iopub.execute_input": "2020-10-10T11:47:40.196355Z",
          "iopub.status.busy": "2020-10-10T11:47:40.195333Z",
          "iopub.status.idle": "2020-10-10T11:47:40.660989Z",
          "shell.execute_reply": "2020-10-10T11:47:40.661790Z"
        },
        "id": "KXFmYOt8SVN1",
        "papermill": {
          "duration": 13.486379,
          "end_time": "2020-10-10T11:47:40.661991",
          "exception": false,
          "start_time": "2020-10-10T11:47:27.175612",
          "status": "completed"
        },
        "tags": []
      },
      "source": [
        "selector = np.argmin(abs(np.array(ious) - np.mean(ious)))\n",
        "model = load_model(str(selector+1)+'_unet_ner_seg.hdf5', custom_objects={'dice_coef_loss': dice_coef_loss, 'iou': iou, 'dice_coef': dice_coef})"
      ],
      "execution_count": null,
      "outputs": []
    },
    {
      "cell_type": "code",
      "metadata": {
        "execution": {
          "iopub.execute_input": "2020-10-10T11:48:07.130362Z",
          "iopub.status.busy": "2020-10-10T11:48:07.129256Z",
          "iopub.status.idle": "2020-10-10T11:48:19.283126Z",
          "shell.execute_reply": "2020-10-10T11:48:19.282090Z"
        },
        "id": "W8HL2A2cFR7h",
        "papermill": {
          "duration": 25.493112,
          "end_time": "2020-10-10T11:48:19.283247",
          "exception": false,
          "start_time": "2020-10-10T11:47:53.790135",
          "status": "completed"
        },
        "tags": []
      },
      "source": [
        "for i in range(20):\n",
        "    index=np.random.randint(0,len(test_data_frame.index))\n",
        "    print(i+1, index)\n",
        "    img = cv2.imread(test_data_frame['filename'].iloc[index])\n",
        "    img = cv2.resize(img, (height, width))\n",
        "    img = img[np.newaxis, :, :, :]\n",
        "    img = preprocess_input(img)\n",
        "    pred = model.predict(img)\n",
        "    print('Class Prediction : ',pred[1])\n",
        "\n",
        "    plt.figure(figsize=(12,12))\n",
        "    plt.subplot(1,3,1)\n",
        "    plt.imshow(cv2.resize(cv2.imread(test_data_frame['filename'].iloc[index]), (height, width)))\n",
        "    plt.title('Original Image')\n",
        "    plt.subplot(1,3,2)\n",
        "    plt.imshow(np.squeeze(cv2.resize(cv2.imread(test_data_frame['mask'].iloc[index]), (height, width))))\n",
        "    plt.title('Original Mask')\n",
        "    plt.subplot(1,3,3)\n",
        "    plt.imshow(np.squeeze(pred[0]) > .5)\n",
        "    plt.title('Prediction')\n",
        "    plt.show()"
      ],
      "execution_count": null,
      "outputs": []
    },
    {
      "cell_type": "code",
      "metadata": {
        "execution": {
          "iopub.execute_input": "2020-10-10T11:48:46.740036Z",
          "iopub.status.busy": "2020-10-10T11:48:46.716588Z",
          "iopub.status.idle": "2020-10-10T11:48:47.924632Z",
          "shell.execute_reply": "2020-10-10T11:48:47.923668Z"
        },
        "papermill": {
          "duration": 13.939687,
          "end_time": "2020-10-10T11:48:47.924787",
          "exception": false,
          "start_time": "2020-10-10T11:48:33.985100",
          "status": "completed"
        },
        "tags": [],
        "id": "qwrVyJNWFnMn"
      },
      "source": [
        "!rm -r generated"
      ],
      "execution_count": null,
      "outputs": []
    },
    {
      "cell_type": "code",
      "metadata": {
        "id": "BrxnfYKZFnMn"
      },
      "source": [
        ""
      ],
      "execution_count": null,
      "outputs": []
    },
    {
      "cell_type": "code",
      "metadata": {
        "id": "r4KkJc1dwyFz"
      },
      "source": [
        ""
      ],
      "execution_count": null,
      "outputs": []
    }
  ]
}